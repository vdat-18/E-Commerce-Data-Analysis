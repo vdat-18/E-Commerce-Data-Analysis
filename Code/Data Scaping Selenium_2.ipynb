{
 "cells": [
  {
   "cell_type": "markdown",
   "metadata": {},
   "source": [
    "Truy cập để lấy LINK CỬA HÀNG"
   ]
  },
  {
   "cell_type": "code",
   "execution_count": null,
   "metadata": {},
   "outputs": [],
   "source": [
    "import os\n",
    "import time\n",
    "import pandas as pd\n",
    "from selenium import webdriver\n",
    "from selenium.webdriver.common.by import By\n",
    "from selenium.common.exceptions import NoSuchElementException\n",
    "\n",
    "# Đường dẫn file Excel đầu vào chứa cột \"Links\"\n",
    "input_file = r\"D:/du lieu o cu/HUTECH Courses/NCKH(thầy Hường)/E-Commerce-Data-Analysis/Data Scraping Selenium/Category_Files/category_2.xlsx\"\n",
    "\n",
    "# Đọc file Excel bằng pandas\n",
    "df = pd.read_excel(input_file)\n",
    "# Giả sử file Excel có cột \"Links\" chứa các URL cần truy cập\n",
    "links = df[\"Links\"].tolist()\n",
    "\n",
    "# Sử dụng set để lưu các seller link không trùng lặp\n",
    "seller_links_set = set()\n",
    "\n",
    "# Khởi tạo Selenium WebDriver (ở đây dùng Chrome)\n",
    "driver = webdriver.Chrome()\n",
    "driver.maximize_window()  # Phóng to cửa sổ trình duyệt\n",
    "driver.implicitly_wait(10)  # Chờ tối đa 10 giây cho các phần tử xuất hiện\n",
    "\n",
    "# Duyệt qua từng URL trong danh sách\n",
    "for url in links:\n",
    "    try:\n",
    "        print(f\"Đang truy cập: {url}\")\n",
    "        driver.get(url)\n",
    "        # Cho trang load dữ liệu (tùy chỉnh thời gian chờ nếu cần)\n",
    "        time.sleep(2)\n",
    "        \n",
    "        # Tìm phần tử chứa seller link theo cấu trúc HTML được cung cấp.\n",
    "        # Ta có thể sử dụng CSS selector. Trong HTML mẫu, seller link nằm trong thẻ <a> bên trong div có class:\n",
    "        # \"SellerName__SellerNameStyled-sc-5d1cxl-0 myqYs\"\n",
    "        seller_element = driver.find_element(By.CSS_SELECTOR, \"div.SellerName__SellerNameStyled-sc-5d1cxl-0.myqYs a\")\n",
    "        \n",
    "        # Lấy thuộc tính href của thẻ <a>\n",
    "        seller_href = seller_element.get_attribute(\"href\")\n",
    "        print(f\"  => Seller link: {seller_href}\")\n",
    "        \n",
    "        # Thêm vào set để tránh trùng lặp\n",
    "        seller_links_set.add(seller_href)\n",
    "    except NoSuchElementException:\n",
    "        # Nếu không tìm thấy phần tử chứa seller link\n",
    "        print(f\"  => Không tìm thấy seller link trên trang: {url}\")\n",
    "    except Exception as e:\n",
    "        print(f\"  => Lỗi khi xử lý {url}: {e}\")\n",
    "\n",
    "# Đóng trình duyệt\n",
    "driver.quit()\n",
    "\n",
    "# Chuyển set thành danh sách để lưu vào file Excel\n",
    "seller_links_list = list(seller_links_set)\n",
    "\n",
    "# Lưu kết quả thu thập được vào file Excel mới\n",
    "output_file = r\"D:/du lieu o cu/HUTECH Courses/NCKH(thầy Hường)/E-Commerce-Data-Analysis/Data Scraping Selenium/store_seller_links.xlsx\"\n",
    "output_df = pd.DataFrame({\"Seller Links\": seller_links_list})\n",
    "output_df.to_excel(output_file, index=False)\n",
    "\n",
    "print(f\"\\nĐã lưu danh sách seller link vào file: {output_file}\")\n"
   ]
  },
  {
   "cell_type": "markdown",
   "metadata": {},
   "source": [
    "Truy cập Links cửa hàng để lấy thông tin sản phẩm."
   ]
  },
  {
   "cell_type": "code",
   "execution_count": null,
   "metadata": {},
   "outputs": [],
   "source": []
  },
  {
   "cell_type": "code",
   "execution_count": null,
   "metadata": {},
   "outputs": [],
   "source": []
  }
 ],
 "metadata": {
  "kernelspec": {
   "display_name": "Python 3",
   "language": "python",
   "name": "python3"
  },
  "language_info": {
   "codemirror_mode": {
    "name": "ipython",
    "version": 3
   },
   "file_extension": ".py",
   "mimetype": "text/x-python",
   "name": "python",
   "nbconvert_exporter": "python",
   "pygments_lexer": "ipython3",
   "version": "3.12.3"
  }
 },
 "nbformat": 4,
 "nbformat_minor": 2
}
